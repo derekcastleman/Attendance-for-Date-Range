{
 "cells": [
  {
   "cell_type": "markdown",
   "id": "016b2cef",
   "metadata": {},
   "source": [
    "# Attendance Generation from Absent Codes with Leave and Teacher Work Days and Dashboard\n",
    "\n",
    "Aeries does not allow for us to find the percent present for a student based on a date range only allowing for a search on Year to Date attendance. This creates issues if we want to look at the quarter, semester or monthly attendance for students.\n",
    "\n",
    "The following code allows for the percent attendance for a student to be calculated using a query that searches for the All Day codes for the year as well as the Enrollment Data for the students.\n",
    "\n",
    "The only input that is required is the date range of interest as well as answering questions on the days off of school pertaining to particular school holidays. Only holidays within the time range of interest have to be input. The rest can be skipped by hitting enter.\n",
    "\n",
    "__Query for Absent Codes__: LIST ATT STU ATT.SC STU.ID ATT.DY ATT.AL ATT.DT ATT.RS ATT.DTS ATT.ACO\n",
    "\n",
    "__Query for Enrollment__: LIST STU ID LN FN SC GR ED LD\n",
    "\n",
    "Run the queries through Aeries and input the file destination into the appropriate spots."
   ]
  },
  {
   "cell_type": "code",
   "execution_count": null,
   "id": "ffcc23c9",
   "metadata": {},
   "outputs": [],
   "source": [
    "import numpy as np\n",
    "import pandas as pd"
   ]
  },
  {
   "cell_type": "code",
   "execution_count": null,
   "id": "09e23505",
   "metadata": {},
   "outputs": [],
   "source": [
    "# Query for the All Day codes for the school year\n",
    "# LIST ATT STU ATT.SC STU.ID ATT.DY ATT.AL ATT.DT ATT.RS ATT.DTS ATT.ACO\n",
    "\n",
    "absent_codes = pd.read_excel(r\"C:\\Users\\derek.castleman\\Desktop\\AbsentCodes23-24.xlsx\")\n",
    "\n",
    "# Obtain enrollment data for the students\n",
    "# LIST STU ID LN FN SC GR ED LD\n",
    "\n",
    "enrollment = pd.read_excel(r\"C:\\Users\\derek.castleman\\Desktop\\Enrollment23-24.xlsx\")\n",
    "\n",
    "# Destination of output file\n",
    "output = \"C:\\\\Users\\\\derek.castleman\\\\Desktop\\\\AttendanceFinal2024.xlsx\""
   ]
  },
  {
   "cell_type": "code",
   "execution_count": null,
   "id": "d31c3bbf",
   "metadata": {},
   "outputs": [],
   "source": [
    "absent_codes"
   ]
  },
  {
   "cell_type": "markdown",
   "id": "416f97ab",
   "metadata": {},
   "source": [
    "## Selecting Date Range\n",
    "\n",
    "Inputting the date range of interest that you want to generate the attendance data for and then converting it into datetime."
   ]
  },
  {
   "cell_type": "code",
   "execution_count": null,
   "id": "5a48e60a",
   "metadata": {},
   "outputs": [],
   "source": [
    "absent_codes['Date']= pd.to_datetime(absent_codes['Date']) # Changes absent date to datetime\n",
    "absent_codes"
   ]
  },
  {
   "cell_type": "code",
   "execution_count": null,
   "id": "85ad222c",
   "metadata": {},
   "outputs": [],
   "source": [
    "a = input('What is the start date you are interested in (mm/dd/yyyy):          ') #Input start date"
   ]
  },
  {
   "cell_type": "code",
   "execution_count": null,
   "id": "adaa7421",
   "metadata": {},
   "outputs": [],
   "source": [
    "a = pd.to_datetime(a) # Change start date to datetime\n",
    "a"
   ]
  },
  {
   "cell_type": "code",
   "execution_count": null,
   "id": "fff94eb2",
   "metadata": {},
   "outputs": [],
   "source": [
    "b = input('What is the end date you are interested in (mm/dd/yyyy):          ') #Input end date"
   ]
  },
  {
   "cell_type": "code",
   "execution_count": null,
   "id": "39f68758",
   "metadata": {},
   "outputs": [],
   "source": [
    "b = pd.to_datetime(b) # Turn end date to date time\n",
    "b"
   ]
  },
  {
   "cell_type": "code",
   "execution_count": null,
   "id": "62401960",
   "metadata": {},
   "outputs": [],
   "source": [
    "# Filters date range from All Day code table\n",
    "dates_interested = absent_codes[(absent_codes['Date'] >=a) & (absent_codes['Date'] <=b)]\n",
    "dates_interested"
   ]
  },
  {
   "cell_type": "markdown",
   "id": "286034fd",
   "metadata": {},
   "source": [
    "## Calculating Absences, Tardies and Truancies\n",
    "\n",
    "Absences will be calculated using the All Day codes which coincide with an absent for the student for the day.\n",
    "\n",
    "Unexcused absences will be filtered by the codes that relate to this kind of absence.\n",
    "\n",
    "Tardies will focus on the codes that are related to tardies.\n",
    "\n",
    "Truancies will be students that have an All Day code of >30."
   ]
  },
  {
   "cell_type": "code",
   "execution_count": null,
   "id": "7d7e17c9",
   "metadata": {},
   "outputs": [],
   "source": [
    "# Filtering for rows that correspond to absences\n",
    "absent_students = dates_interested[(dates_interested['All day'] == 'R') | (dates_interested['All day'] == '0') |\n",
    "                                  (dates_interested['All day'] == 'I') | (dates_interested['All day'] == 'L') | \n",
    "                                  (dates_interested['All day'] == 'M') | (dates_interested['All day'] == 'X') |\n",
    "                                  (dates_interested['All day'] == '7') | (dates_interested['All day'] == 'A') |\n",
    "                                  (dates_interested['All day'] == 'Q') | (dates_interested['All day'] == 'S') |\n",
    "                                  (dates_interested['All day'] == 'U') | (dates_interested['All day'] == 'P') | \n",
    "                                  (dates_interested['All day'] == '4')]\n",
    "absent_students"
   ]
  },
  {
   "cell_type": "code",
   "execution_count": null,
   "id": "b2fd3aa7",
   "metadata": {},
   "outputs": [],
   "source": [
    "# Adding a column that gives one day for each absent code\n",
    "absent_students['Absent'] = 1\n",
    "absent_students"
   ]
  },
  {
   "cell_type": "code",
   "execution_count": null,
   "id": "ba3ade1e",
   "metadata": {},
   "outputs": [],
   "source": [
    "# Grouping by school and student ID to calculate total number of days absent\n",
    "absent = absent_students.groupby(by=['School', 'Student ID'])['Absent'].sum().reset_index()\n",
    "absent"
   ]
  },
  {
   "cell_type": "code",
   "execution_count": null,
   "id": "7c643eed",
   "metadata": {},
   "outputs": [],
   "source": [
    "# Filters for the codes that relate to unexcused absences\n",
    "unexcused_absent_students = dates_interested[(dates_interested['All day'] == '7') |\n",
    "                                  (dates_interested['All day'] == 'Q') | (dates_interested['All day'] == 'S') |\n",
    "                                  (dates_interested['All day'] == 'U')]\n",
    "unexcused_absent_students"
   ]
  },
  {
   "cell_type": "code",
   "execution_count": null,
   "id": "48a83f0e",
   "metadata": {},
   "outputs": [],
   "source": [
    "# Gives one day for each unexcused absence\n",
    "unexcused_absent_students['Unexcused Absences'] = 1\n",
    "unexcused_absent_students"
   ]
  },
  {
   "cell_type": "code",
   "execution_count": null,
   "id": "61497e01",
   "metadata": {},
   "outputs": [],
   "source": [
    "# Sums up the number of unexcused absences for each students\n",
    "unexcused_absent = unexcused_absent_students.groupby(by=['School', 'Student ID'])['Unexcused Absences'].sum().reset_index()\n",
    "unexcused_absent"
   ]
  },
  {
   "cell_type": "code",
   "execution_count": null,
   "id": "7128c971",
   "metadata": {},
   "outputs": [],
   "source": [
    "# Filters for truancies\n",
    "truancies = dates_interested[dates_interested['All day'] == 'Z']\n",
    "truancies"
   ]
  },
  {
   "cell_type": "code",
   "execution_count": null,
   "id": "d1626c0d",
   "metadata": {},
   "outputs": [],
   "source": [
    "# Gives on truancy for each day\n",
    "truancies['Truant'] = 1\n",
    "truancies"
   ]
  },
  {
   "cell_type": "code",
   "execution_count": null,
   "id": "25a8d33c",
   "metadata": {},
   "outputs": [],
   "source": [
    "# Summs up the truancies for each student\n",
    "truant = truancies.groupby(by=['School', 'Student ID'])['Truant'].sum().reset_index()\n",
    "truant"
   ]
  },
  {
   "cell_type": "code",
   "execution_count": null,
   "id": "3040482b",
   "metadata": {},
   "outputs": [],
   "source": [
    "# Filters for the tardies for each student\n",
    "tardy_students = dates_interested[(dates_interested['All day'] == 'T') | (dates_interested['All day'] == 'D') |\n",
    "                                  (dates_interested['All day'] == 'C')]\n",
    "tardy_students"
   ]
  },
  {
   "cell_type": "code",
   "execution_count": null,
   "id": "7c45ef5e",
   "metadata": {},
   "outputs": [],
   "source": [
    "# Gives one tardy for each day\n",
    "tardy_students['Tardy'] = 1\n",
    "tardy_students"
   ]
  },
  {
   "cell_type": "code",
   "execution_count": null,
   "id": "e87b7fcc",
   "metadata": {},
   "outputs": [],
   "source": [
    "# Sums up the tardies for each student\n",
    "tardies = tardy_students.groupby(by=['School', 'Student ID'])['Tardy'].sum().reset_index()\n",
    "tardies"
   ]
  },
  {
   "cell_type": "markdown",
   "id": "48dc2e68",
   "metadata": {},
   "source": [
    "## Calculating Days Enrolled\n",
    "\n",
    "The days that the students are enrolled at the school for the time period that is selected will be calculated."
   ]
  },
  {
   "cell_type": "code",
   "execution_count": null,
   "id": "532d0691",
   "metadata": {},
   "outputs": [],
   "source": [
    "enrollment"
   ]
  },
  {
   "cell_type": "code",
   "execution_count": null,
   "id": "345e99f6",
   "metadata": {},
   "outputs": [],
   "source": [
    "# Changing the enter date to datetime format\n",
    "enrollment['Enter Date']= pd.to_datetime(enrollment['Enter Date'])\n",
    "enrollment"
   ]
  },
  {
   "cell_type": "code",
   "execution_count": null,
   "id": "aebbd394",
   "metadata": {},
   "outputs": [],
   "source": [
    "# Creating a function that sets different dates based on when the student enrolls and time period selected\n",
    "def f(row):\n",
    "    if row['Enter Date'] <= a: #Enter date is first date selected if student enrolled prior\n",
    "        val = a\n",
    "    else:\n",
    "        val = row['Enter Date'] #Enter date is date of actual enrollment if after start date\n",
    "    return val"
   ]
  },
  {
   "cell_type": "code",
   "execution_count": null,
   "id": "0b9a41e1",
   "metadata": {},
   "outputs": [],
   "source": [
    "# Creates enrollment column using function defined above\n",
    "enrollment['Enrollment'] = enrollment.apply(f, axis=1)\n",
    "enrollment"
   ]
  },
  {
   "cell_type": "markdown",
   "id": "f29a328a",
   "metadata": {},
   "source": [
    "## Inputing Holidays\n",
    "\n",
    "The dates for holidays can be input for the time range that is of concern. Any other holiday outside of the range can be skipped by hitting enter."
   ]
  },
  {
   "cell_type": "code",
   "execution_count": null,
   "id": "62b863ea",
   "metadata": {},
   "outputs": [],
   "source": [
    "# Takes an input for the date then converts it to datetime and a dataframe\n",
    "c = input('When is Labor Day (mm/dd/yyyy) - Hit enter if not in time range?:      ')\n",
    "c = pd.to_datetime(c)\n",
    "c=[c]\n",
    "c = pd.DataFrame(c, columns=['Dates'])\n",
    "c"
   ]
  },
  {
   "cell_type": "code",
   "execution_count": null,
   "id": "00914699",
   "metadata": {},
   "outputs": [],
   "source": [
    "c[\"Date\"] = pd.to_datetime(c['Dates']).dt.date\n",
    "c.info()"
   ]
  },
  {
   "cell_type": "code",
   "execution_count": null,
   "id": "f7c0313c",
   "metadata": {},
   "outputs": [],
   "source": [
    "d = input('When is first date of Fall Break (mm/dd/yyyy)? - Hit enter if not in time range:      ')\n",
    "d = pd.to_datetime(d)\n",
    "d"
   ]
  },
  {
   "cell_type": "code",
   "execution_count": null,
   "id": "1bce6ca6",
   "metadata": {},
   "outputs": [],
   "source": [
    "e = input('When is last date of Fall Break (mm/dd/yyyy)? - Hit enter if not in time range:      ')\n",
    "e = pd.to_datetime(e)\n",
    "e"
   ]
  },
  {
   "cell_type": "code",
   "execution_count": null,
   "id": "1b510f3b",
   "metadata": {},
   "outputs": [],
   "source": [
    "# If the start and end date are not null it will create a dataframe between the date range\n",
    "if pd.notna(d) and pd.notna(e):\n",
    "    fall_break = pd.date_range(d,e,freq='d')\n",
    "    fall_break = pd.DataFrame(fall_break, columns =['Dates'])\n",
    "    fall_break[\"Date\"] = fall_break['Dates'].dt.date\n",
    "else:\n",
    "    fall_break = None # Returns null if the start and end date are not entered"
   ]
  },
  {
   "cell_type": "code",
   "execution_count": null,
   "id": "3b2da668",
   "metadata": {},
   "outputs": [],
   "source": [
    "fall_break"
   ]
  },
  {
   "cell_type": "code",
   "execution_count": null,
   "id": "b9facc07",
   "metadata": {},
   "outputs": [],
   "source": [
    "f = input('When is Veterans Day (mm/dd/yyyy)? - Hit enter if not in time range:      ')\n",
    "f = pd.to_datetime(f)\n",
    "f=[f]\n",
    "f = pd.DataFrame(f, columns=['Dates'])\n",
    "f[\"Date\"] = f['Dates'].dt.date\n",
    "f"
   ]
  },
  {
   "cell_type": "code",
   "execution_count": null,
   "id": "9f6a9ece",
   "metadata": {},
   "outputs": [],
   "source": [
    "g = input('When is first date of Thanksgiving Break (mm/dd/yyyy)? - Hit enter if not in time range:      ')\n",
    "g = pd.to_datetime(g)\n",
    "g"
   ]
  },
  {
   "cell_type": "code",
   "execution_count": null,
   "id": "7dff13a3",
   "metadata": {},
   "outputs": [],
   "source": [
    "h = input('When is last date of Thanksgiving Break (mm/dd/yyyy)? - Hit enter if not in time range:      ')\n",
    "h = pd.to_datetime(h)\n",
    "h"
   ]
  },
  {
   "cell_type": "code",
   "execution_count": null,
   "id": "d6ad2662",
   "metadata": {},
   "outputs": [],
   "source": [
    "if pd.notna(g) and pd.notna(h):\n",
    "    thanksgiving_break = pd.date_range(g,h,freq='d')\n",
    "    thanksgiving_break = pd.DataFrame(thanksgiving_break, columns =['Dates'])\n",
    "    thanksgiving_break[\"Date\"] = thanksgiving_break['Dates'].dt.date\n",
    "else:\n",
    "    thanksgiving_break = None"
   ]
  },
  {
   "cell_type": "code",
   "execution_count": null,
   "id": "4f253fa4",
   "metadata": {},
   "outputs": [],
   "source": [
    "i = input('List first date of Winter Break (mm/dd/yyyy)? - Hit enter if not in time range:      ')\n",
    "i = pd.to_datetime(i)\n",
    "i"
   ]
  },
  {
   "cell_type": "code",
   "execution_count": null,
   "id": "8e5f450b",
   "metadata": {},
   "outputs": [],
   "source": [
    "j = input('List last date of Winter Break (mm/dd/yyyy)? - Hit enter if not in time range:      ')\n",
    "j = pd.to_datetime(j)\n",
    "j"
   ]
  },
  {
   "cell_type": "code",
   "execution_count": null,
   "id": "67ee48ca",
   "metadata": {},
   "outputs": [],
   "source": [
    "if pd.notna(i) and pd.notna(j):\n",
    "    winter_break = pd.date_range(i,j,freq='d')\n",
    "    winter_break = pd.DataFrame(winter_break, columns =['Dates'])\n",
    "    winter_break[\"Date\"] = winter_break['Dates'].dt.date\n",
    "else:\n",
    "    winter_break = None"
   ]
  },
  {
   "cell_type": "code",
   "execution_count": null,
   "id": "6aae0492",
   "metadata": {},
   "outputs": [],
   "source": [
    "k = input('When is MLK Day (mm/dd/yyyy)? - Hit enter if not in time range:      ')\n",
    "k = pd.to_datetime(k)\n",
    "k=[k]\n",
    "k = pd.DataFrame(k, columns=['Dates'])\n",
    "k[\"Date\"] = k['Dates'].dt.date\n",
    "k"
   ]
  },
  {
   "cell_type": "code",
   "execution_count": null,
   "id": "910ec719",
   "metadata": {},
   "outputs": [],
   "source": [
    "s = input('When is Lincolns Birthday if applicable (mm/dd/yyyy)? - Hit enter if not in time range:      ')\n",
    "s = pd.to_datetime(s)\n",
    "s=[s]\n",
    "s = pd.DataFrame(s, columns=['Dates'])\n",
    "s[\"Date\"] = s['Dates'].dt.date\n",
    "s"
   ]
  },
  {
   "cell_type": "code",
   "execution_count": null,
   "id": "d6106c27",
   "metadata": {},
   "outputs": [],
   "source": [
    "l = input('When is Presidents Day (mm/dd/yyyy)? - Hit enter if not in time range:      ')\n",
    "l = pd.to_datetime(l)\n",
    "l=[l]\n",
    "l = pd.DataFrame(l, columns=['Dates'])\n",
    "l[\"Date\"] = l['Dates'].dt.date\n",
    "l"
   ]
  },
  {
   "cell_type": "code",
   "execution_count": null,
   "id": "b0297aa2",
   "metadata": {},
   "outputs": [],
   "source": [
    "m = input('When does Spring Break begin (mm/dd/yyyy)? - Hit enter if not in time range:      ')\n",
    "m = pd.to_datetime(m)\n",
    "m"
   ]
  },
  {
   "cell_type": "code",
   "execution_count": null,
   "id": "2a35977a",
   "metadata": {},
   "outputs": [],
   "source": [
    "n = input('When does Spring Break end (mm/dd/yyyy)? - Hit enter if not in time range:      ')\n",
    "n = pd.to_datetime(n)\n",
    "n"
   ]
  },
  {
   "cell_type": "code",
   "execution_count": null,
   "id": "ed20b249",
   "metadata": {},
   "outputs": [],
   "source": [
    "if pd.notna(m) and pd.notna(n):\n",
    "    spring_break = pd.date_range(m,n,freq='d')\n",
    "    spring_break = pd.DataFrame(spring_break, columns =['Dates'])\n",
    "    spring_break[\"Date\"] = spring_break['Dates'].dt.date\n",
    "else:\n",
    "    spring_break = None"
   ]
  },
  {
   "cell_type": "code",
   "execution_count": null,
   "id": "e6d54559",
   "metadata": {},
   "outputs": [],
   "source": [
    "o = input('When is Cesar Chavez Day (mm/dd/yyyy)? - Hit enter if not in time range:      ')\n",
    "o = pd.to_datetime(o)\n",
    "o=[o]\n",
    "o = pd.DataFrame(o, columns=['Dates'])\n",
    "o[\"Date\"] = o['Dates'].dt.date\n",
    "o"
   ]
  },
  {
   "cell_type": "code",
   "execution_count": null,
   "id": "95a82164",
   "metadata": {},
   "outputs": [],
   "source": [
    "p = input('When is Easter Holiday (mm/dd/yyyy)? - Hit enter if not in time range:      ')\n",
    "p = pd.to_datetime(p)\n",
    "p=[p]\n",
    "p = pd.DataFrame(p, columns=['Dates'])\n",
    "p[\"Date\"] = p['Dates'].dt.date\n",
    "p"
   ]
  },
  {
   "cell_type": "code",
   "execution_count": null,
   "id": "0877c7be",
   "metadata": {},
   "outputs": [],
   "source": [
    "q = input('When is Memorial Day (mm/dd/yyyy)? - Hit enter if not in time range:      ')\n",
    "q = pd.to_datetime(q)\n",
    "q=[q]\n",
    "q = pd.DataFrame(q, columns=['Dates'])\n",
    "q[\"Date\"] = q['Dates'].dt.date\n",
    "q"
   ]
  },
  {
   "cell_type": "markdown",
   "id": "88eb1e9e",
   "metadata": {},
   "source": [
    "## Teacher Work Days"
   ]
  },
  {
   "cell_type": "code",
   "execution_count": null,
   "id": "1f147519",
   "metadata": {},
   "outputs": [],
   "source": [
    "aa = input('How many teacher work days are there?:          ')"
   ]
  },
  {
   "cell_type": "code",
   "execution_count": null,
   "id": "dee3d73f",
   "metadata": {},
   "outputs": [],
   "source": [
    "if aa == '0':\n",
    "    zz = None\n",
    "elif aa == '1':\n",
    "    bb = input('When is first teacher day (mm/dd/yyyy)?:      ')\n",
    "    bb = pd.to_datetime(bb)\n",
    "    bb=[bb]\n",
    "    bb = pd.DataFrame(bb, columns=['Dates'])\n",
    "    bb[\"Date\"] = bb['Dates'].dt.date\n",
    "    zz = bb\n",
    "elif aa == '2':\n",
    "    bb = input('When is first teacher day (mm/dd/yyyy)?:      ')\n",
    "    bb = pd.to_datetime(bb)\n",
    "    bb=[bb]\n",
    "    bb = pd.DataFrame(bb, columns=['Dates'])\n",
    "    bb[\"Date\"] = bb['Dates'].dt.date\n",
    "    cc = input('When is second teacher day (mm/dd/yyyy)?:      ')\n",
    "    cc = pd.to_datetime(cc)\n",
    "    cc=[cc]\n",
    "    cc = pd.DataFrame(cc, columns=['Dates'])\n",
    "    cc[\"Date\"] = cc['Dates'].dt.date\n",
    "    zz = pd.concat([bb, cc])\n",
    "elif aa == '3':\n",
    "    bb = input('When is first teacher day (mm/dd/yyyy)?:      ')\n",
    "    bb = pd.to_datetime(bb)\n",
    "    bb=[bb]\n",
    "    bb = pd.DataFrame(bb, columns=['Dates'])\n",
    "    bb[\"Date\"] = bb['Dates'].dt.date\n",
    "    cc = input('When is second teacher day (mm/dd/yyyy)?:      ')\n",
    "    cc = pd.to_datetime(cc)\n",
    "    cc=[cc]\n",
    "    cc = pd.DataFrame(cc, columns=['Dates'])\n",
    "    cc[\"Date\"] = cc['Dates'].dt.date\n",
    "    dd = input('When is third teacher day (mm/dd/yyyy)?:      ')\n",
    "    dd = pd.to_datetime(dd)\n",
    "    dd=[dd]\n",
    "    dd = pd.DataFrame(dd, columns=['Dates'])\n",
    "    dd[\"Date\"] = dd['Dates'].dt.date\n",
    "    zz = pd.concat([bb, cc, dd])\n",
    "elif aa == '4':\n",
    "    bb = input('When is first teacher day (mm/dd/yyyy)?:      ')\n",
    "    bb = pd.to_datetime(bb)\n",
    "    bb=[bb]\n",
    "    bb = pd.DataFrame(bb, columns=['Dates'])\n",
    "    bb[\"Date\"] = bb['Dates'].dt.date\n",
    "    cc = input('When is second teacher day (mm/dd/yyyy)?:      ')\n",
    "    cc = pd.to_datetime(cc)\n",
    "    cc=[cc]\n",
    "    cc = pd.DataFrame(cc, columns=['Dates'])\n",
    "    cc[\"Date\"] = cc['Dates'].dt.date\n",
    "    dd = input('When is third teacher day (mm/dd/yyyy)?:      ')\n",
    "    dd = pd.to_datetime(dd)\n",
    "    dd=[dd]\n",
    "    dd = pd.DataFrame(dd, columns=['Dates'])\n",
    "    dd[\"Date\"] = dd['Dates'].dt.date\n",
    "    ee = input('When is fourth teacher day (mm/dd/yyyy)?:      ')\n",
    "    ee = pd.to_datetime(ee)\n",
    "    ee=[ee]\n",
    "    ee = pd.DataFrame(ee, columns=['Dates'])\n",
    "    ee[\"Date\"] = ee['Dates'].dt.date\n",
    "    zz = pd.concat([bb, cc, dd, ee])\n",
    "elif aa == '5':\n",
    "    bb = input('When is first teacher day (mm/dd/yyyy)?:      ')\n",
    "    bb = pd.to_datetime(bb)\n",
    "    bb=[bb]\n",
    "    bb = pd.DataFrame(bb, columns=['Dates'])\n",
    "    bb[\"Date\"] = bb['Dates'].dt.date\n",
    "    cc = input('When is second teacher day (mm/dd/yyyy)?:      ')\n",
    "    cc = pd.to_datetime(cc)\n",
    "    cc=[cc]\n",
    "    cc = pd.DataFrame(cc, columns=['Dates'])\n",
    "    cc[\"Date\"] = cc['Dates'].dt.date\n",
    "    dd = input('When is third teacher day (mm/dd/yyyy)?:      ')\n",
    "    dd = pd.to_datetime(dd)\n",
    "    dd=[dd]\n",
    "    dd = pd.DataFrame(dd, columns=['Dates'])\n",
    "    dd[\"Date\"] = dd['Dates'].dt.date\n",
    "    ee = input('When is fourth teacher day (mm/dd/yyyy)?:      ')\n",
    "    ee = pd.to_datetime(ee)\n",
    "    ee=[ee]\n",
    "    ee = pd.DataFrame(ee, columns=['Dates'])\n",
    "    ee[\"Date\"] = ee['Dates'].dt.date\n",
    "    ff = input('When is fifth teacher day (mm/dd/yyyy)?:      ')\n",
    "    ff = pd.to_datetime(ff)\n",
    "    ff=[ff]\n",
    "    ff = pd.DataFrame(ff, columns=['Dates'])\n",
    "    ff[\"Date\"] = ff['Dates'].dt.date\n",
    "    zz = pd.concat([bb, cc, dd, ee, ff])\n",
    "elif aa == '6':\n",
    "    bb = input('When is first teacher day (mm/dd/yyyy)?:      ')\n",
    "    bb = pd.to_datetime(bb)\n",
    "    bb=[bb]\n",
    "    bb = pd.DataFrame(bb, columns=['Dates'])\n",
    "    bb[\"Date\"] = bb['Dates'].dt.date\n",
    "    cc = input('When is second teacher day (mm/dd/yyyy)?:      ')\n",
    "    cc = pd.to_datetime(cc)\n",
    "    cc=[cc]\n",
    "    cc = pd.DataFrame(cc, columns=['Dates'])\n",
    "    cc[\"Date\"] = cc['Dates'].dt.date\n",
    "    dd = input('When is third teacher day (mm/dd/yyyy)?:      ')\n",
    "    dd = pd.to_datetime(dd)\n",
    "    dd=[dd]\n",
    "    dd = pd.DataFrame(dd, columns=['Dates'])\n",
    "    dd[\"Date\"] = dd['Dates'].dt.date\n",
    "    ee = input('When is fourth teacher day (mm/dd/yyyy)?:      ')\n",
    "    ee = pd.to_datetime(ee)\n",
    "    ee=[ee]\n",
    "    ee = pd.DataFrame(ee, columns=['Dates'])\n",
    "    ee[\"Date\"] = ee['Dates'].dt.date\n",
    "    ff = input('When is fifth teacher day (mm/dd/yyyy)?:      ')\n",
    "    ff = pd.to_datetime(ff)\n",
    "    ff=[ff]\n",
    "    ff = pd.DataFrame(ff, columns=['Dates'])\n",
    "    ff[\"Date\"] = ff['Dates'].dt.date\n",
    "    gg = input('When is sixth teacher day (mm/dd/yyyy)?:      ')\n",
    "    gg = pd.to_datetime(gg)\n",
    "    gg=[gg]\n",
    "    gg = pd.DataFrame(gg, columns=['Dates'])\n",
    "    gg[\"Date\"] = gg['Dates'].dt.date\n",
    "    zz = pd.concat([bb, cc, dd, ee, ff, gg])\n",
    "elif aa == '7':\n",
    "    bb = input('When is first teacher day (mm/dd/yyyy)?:      ')\n",
    "    bb = pd.to_datetime(bb)\n",
    "    bb=[bb]\n",
    "    bb = pd.DataFrame(bb, columns=['Dates'])\n",
    "    bb[\"Date\"] = bb['Dates'].dt.date\n",
    "    cc = input('When is second teacher day (mm/dd/yyyy)?:      ')\n",
    "    cc = pd.to_datetime(cc)\n",
    "    cc=[cc]\n",
    "    cc = pd.DataFrame(cc, columns=['Dates'])\n",
    "    cc[\"Date\"] = cc['Dates'].dt.date\n",
    "    dd = input('When is third teacher day (mm/dd/yyyy)?:      ')\n",
    "    dd = pd.to_datetime(dd)\n",
    "    dd=[dd]\n",
    "    dd = pd.DataFrame(dd, columns=['Dates'])\n",
    "    dd[\"Date\"] = dd['Dates'].dt.date\n",
    "    ee = input('When is fourth teacher day (mm/dd/yyyy)?:      ')\n",
    "    ee = pd.to_datetime(ee)\n",
    "    ee=[ee]\n",
    "    ee = pd.DataFrame(ee, columns=['Dates'])\n",
    "    ee[\"Date\"] = ee['Dates'].dt.date\n",
    "    ff = input('When is fifth teacher day (mm/dd/yyyy)?:      ')\n",
    "    ff = pd.to_datetime(ff)\n",
    "    ff=[ff]\n",
    "    ff = pd.DataFrame(ff, columns=['Dates'])\n",
    "    ff[\"Date\"] = ff['Dates'].dt.date\n",
    "    gg = input('When is sixth teacher day (mm/dd/yyyy)?:      ')\n",
    "    gg = pd.to_datetime(gg)\n",
    "    gg=[gg]\n",
    "    gg = pd.DataFrame(gg, columns=['Dates'])\n",
    "    gg[\"Date\"] = gg['Dates'].dt.date\n",
    "    hh = input('When is seventh teacher day (mm/dd/yyyy)?:      ')\n",
    "    hh = pd.to_datetime(hh)\n",
    "    hh=[hh]\n",
    "    hh = pd.DataFrame(hh, columns=['Dates'])\n",
    "    hh[\"Date\"] = hh['Dates'].dt.date\n",
    "    zz = pd.concat([bb, cc, dd, ee, ff, gg, hh])"
   ]
  },
  {
   "cell_type": "code",
   "execution_count": null,
   "id": "8c67759b",
   "metadata": {},
   "outputs": [],
   "source": [
    "zz"
   ]
  },
  {
   "cell_type": "markdown",
   "id": "c3aa0d1f",
   "metadata": {},
   "source": [
    "## Removing Holidays\n",
    "\n",
    "The holidays that were input will be concatenated into one dataframe. The range of dates that were selected will be generated and matched with the holidays. Then the dates that correspond with the holidays will be removed from the time range of interest."
   ]
  },
  {
   "cell_type": "code",
   "execution_count": null,
   "id": "2145b66f",
   "metadata": {},
   "outputs": [],
   "source": [
    "# The input holidays will be concatenated into one dataframe\n",
    "holidays = pd.concat([c, fall_break, f, thanksgiving_break, winter_break, k, l, spring_break, o, p, q, s, zz]).reset_index(drop=True)\n",
    "holidays"
   ]
  },
  {
   "cell_type": "code",
   "execution_count": null,
   "id": "977167fd",
   "metadata": {},
   "outputs": [],
   "source": [
    "holidays = holidays[['Dates']] #Select the datetime column\n",
    "holidays = holidays.rename(columns={\"Dates\": \"Holidays\"}) #Change the name of column to holidays\n",
    "holidays"
   ]
  },
  {
   "cell_type": "code",
   "execution_count": null,
   "id": "99cf9b89",
   "metadata": {},
   "outputs": [],
   "source": [
    "# The dates between the selected range will be generated\n",
    "date_range = pd.date_range(a,b,freq='B')\n",
    "date_range = pd.DataFrame(date_range, columns =['Dates'])\n",
    "date_range"
   ]
  },
  {
   "cell_type": "code",
   "execution_count": null,
   "id": "9992c0d8",
   "metadata": {},
   "outputs": [],
   "source": [
    "# Holidays are matched with corresponding dates in date range\n",
    "holiday_match = pd.merge(date_range, holidays, how='left', left_on='Dates', right_on='Holidays')\n",
    "holiday_match"
   ]
  },
  {
   "cell_type": "code",
   "execution_count": null,
   "id": "ebff951c",
   "metadata": {},
   "outputs": [],
   "source": [
    "# The dates without holidays are selected\n",
    "dates = holiday_match[holiday_match.Holidays.isnull()].reset_index(drop=True)\n",
    "dates"
   ]
  },
  {
   "cell_type": "code",
   "execution_count": null,
   "id": "dfff19be",
   "metadata": {},
   "outputs": [],
   "source": [
    "# The holidays column is dropped\n",
    "dates = dates[['Dates']]\n",
    "dates"
   ]
  },
  {
   "cell_type": "code",
   "execution_count": null,
   "id": "a12ae0bb",
   "metadata": {},
   "outputs": [],
   "source": [
    "# A column for day is generated\n",
    "dates['Day'] = 'Day'\n",
    "dates"
   ]
  },
  {
   "cell_type": "code",
   "execution_count": null,
   "id": "c8737579",
   "metadata": {},
   "outputs": [],
   "source": [
    "# A countdown of days enrolled by date is generated\n",
    "#dates['Enrolled'] = dates.groupby(['Day']).cumcount(ascending=False)+1\n",
    "#dates"
   ]
  },
  {
   "cell_type": "code",
   "execution_count": null,
   "id": "d25838e9",
   "metadata": {},
   "outputs": [],
   "source": [
    "# The day column is dropped leaving enrolled days for each date\n",
    "dates = dates.drop(columns=['Day'])\n",
    "dates"
   ]
  },
  {
   "cell_type": "markdown",
   "id": "d888f898",
   "metadata": {},
   "source": [
    "## Combining All Tables\n",
    "\n",
    "All the tables will be combined in this section, giving the number of days each student has been enrolled by matching the date and the enrollment columns.\n",
    "\n",
    "All of the attendance tables will then be added to create columns that represent each one."
   ]
  },
  {
   "cell_type": "code",
   "execution_count": null,
   "id": "406192d4",
   "metadata": {},
   "outputs": [],
   "source": [
    "enrollment"
   ]
  },
  {
   "cell_type": "code",
   "execution_count": null,
   "id": "3f3b8806",
   "metadata": {},
   "outputs": [],
   "source": [
    "enrollment['Leave Date']= pd.to_datetime(enrollment['Leave Date'])\n",
    "enrollment"
   ]
  },
  {
   "cell_type": "code",
   "execution_count": null,
   "id": "af2f28c3",
   "metadata": {},
   "outputs": [],
   "source": [
    "enrollment['Leave Date'].fillna(b, inplace=True)\n",
    "enrollment"
   ]
  },
  {
   "cell_type": "code",
   "execution_count": null,
   "id": "06f26766",
   "metadata": {},
   "outputs": [],
   "source": [
    "def generate_date_range(row):\n",
    "    return pd.date_range(start=row['Enrollment'], end=row['Leave Date'])"
   ]
  },
  {
   "cell_type": "code",
   "execution_count": null,
   "id": "97a3c1fa",
   "metadata": {},
   "outputs": [],
   "source": [
    "enrollment['date_range'] = enrollment.apply(generate_date_range, axis=1)\n",
    "enrollment = enrollment.explode('date_range').reset_index(drop=True)\n",
    "enrollment"
   ]
  },
  {
   "cell_type": "code",
   "execution_count": null,
   "id": "6498bbc9",
   "metadata": {},
   "outputs": [],
   "source": [
    "enrollment_fixed = pd.merge(enrollment, dates, how='inner', left_on='date_range', right_on='Dates')\n",
    "enrollment_fixed"
   ]
  },
  {
   "cell_type": "code",
   "execution_count": null,
   "id": "cdbd5487",
   "metadata": {},
   "outputs": [],
   "source": [
    "enrollment_fixed['Enrolled'] = 1\n",
    "enrollment_fixed"
   ]
  },
  {
   "cell_type": "code",
   "execution_count": null,
   "id": "69f0ed19",
   "metadata": {},
   "outputs": [],
   "source": [
    "enrollment_fixed = enrollment_fixed.groupby(['Student ID', 'Last Name', 'First Name', 'School', 'Grade', \n",
    "                                'Enrollment', 'Leave Date'])['Enrolled'].sum().reset_index()\n",
    "enrollment_fixed"
   ]
  },
  {
   "cell_type": "code",
   "execution_count": null,
   "id": "1a531fe2",
   "metadata": {},
   "outputs": [],
   "source": [
    "www = input('All Students or Dashboard:          ') #Select if you want all students or just dashboard"
   ]
  },
  {
   "cell_type": "code",
   "execution_count": null,
   "id": "ea502e63",
   "metadata": {},
   "outputs": [],
   "source": [
    "# Narrows down the enrollment of students based on whether you want Dashboard or all students\n",
    "if www == 'Dashboard':\n",
    "    enrollment_fixed = enrollment_fixed[(enrollment_fixed['Grade'] <= 8) & (enrollment_fixed['Enrolled'] >= 31)]\n",
    "else:\n",
    "    enrollment_fixed = enrollment_fixed"
   ]
  },
  {
   "cell_type": "code",
   "execution_count": null,
   "id": "3b9172d5",
   "metadata": {},
   "outputs": [],
   "source": [
    "enrollment_fixed"
   ]
  },
  {
   "cell_type": "code",
   "execution_count": null,
   "id": "17fed838",
   "metadata": {},
   "outputs": [],
   "source": [
    "enrollment = enrollment_fixed\n",
    "enrollment"
   ]
  },
  {
   "cell_type": "code",
   "execution_count": null,
   "id": "77a7b942",
   "metadata": {},
   "outputs": [],
   "source": [
    "absent"
   ]
  },
  {
   "cell_type": "code",
   "execution_count": null,
   "id": "6ff58ae6",
   "metadata": {},
   "outputs": [],
   "source": [
    "# Adding days absent column\n",
    "absent_enrolled = pd.merge(enrollment, absent, how='left', on=['Student ID', 'School' ])\n",
    "absent_enrolled"
   ]
  },
  {
   "cell_type": "code",
   "execution_count": null,
   "id": "dea020ba",
   "metadata": {},
   "outputs": [],
   "source": [
    "# Giving students with no absences a zero\n",
    "absent_enrolled[\"Absent\"] = absent_enrolled[\"Absent\"].fillna(0)\n",
    "absent_enrolled"
   ]
  },
  {
   "cell_type": "code",
   "execution_count": null,
   "id": "6bc5a529",
   "metadata": {},
   "outputs": [],
   "source": [
    "# Create a present column by subtracting days absent from those enrolled\n",
    "absent_enrolled['Present'] = absent_enrolled['Enrolled'] - absent_enrolled['Absent']\n",
    "absent_enrolled"
   ]
  },
  {
   "cell_type": "code",
   "execution_count": null,
   "id": "b21c2342",
   "metadata": {},
   "outputs": [],
   "source": [
    "present = absent_enrolled[['Student ID', 'Last Name', 'First Name', 'School', 'Grade', 'Enrollment', 'Enrolled', 'Present',\n",
    "                          'Absent']] #Moves the present column over\n",
    "present"
   ]
  },
  {
   "cell_type": "code",
   "execution_count": null,
   "id": "b2efaa06",
   "metadata": {},
   "outputs": [],
   "source": [
    "# Calculates percent present by dividing days present by days enrolled\n",
    "present['% Present'] = present['Present'] / present['Enrolled']\n",
    "present"
   ]
  },
  {
   "cell_type": "code",
   "execution_count": null,
   "id": "d5979510",
   "metadata": {},
   "outputs": [],
   "source": [
    "unexcused_absent"
   ]
  },
  {
   "cell_type": "code",
   "execution_count": null,
   "id": "69c143fd",
   "metadata": {},
   "outputs": [],
   "source": [
    "# Adds unexcused absences column\n",
    "unexcused = pd.merge(present, unexcused_absent, how='left', on=['Student ID', 'School'])\n",
    "unexcused"
   ]
  },
  {
   "cell_type": "code",
   "execution_count": null,
   "id": "2d5c6a90",
   "metadata": {},
   "outputs": [],
   "source": [
    "# Gives a value of zero for students who do not have one\n",
    "unexcused[\"Unexcused Absences\"] = unexcused[\"Unexcused Absences\"].fillna(0)\n",
    "unexcused"
   ]
  },
  {
   "cell_type": "code",
   "execution_count": null,
   "id": "685a7a2e",
   "metadata": {},
   "outputs": [],
   "source": [
    "truant"
   ]
  },
  {
   "cell_type": "code",
   "execution_count": null,
   "id": "d2ba0383",
   "metadata": {},
   "outputs": [],
   "source": [
    "# Adds the truant column to the dataframe\n",
    "truant = pd.merge(unexcused, truant, how='left', on=['Student ID', 'School' ])\n",
    "truant"
   ]
  },
  {
   "cell_type": "code",
   "execution_count": null,
   "id": "13ea1a5b",
   "metadata": {},
   "outputs": [],
   "source": [
    "# Gives a zero to students who do not have one\n",
    "truant[\"Truant\"] = truant[\"Truant\"].fillna(0)\n",
    "truant"
   ]
  },
  {
   "cell_type": "code",
   "execution_count": null,
   "id": "1846a065",
   "metadata": {},
   "outputs": [],
   "source": [
    "tardies"
   ]
  },
  {
   "cell_type": "code",
   "execution_count": null,
   "id": "d2c62417",
   "metadata": {},
   "outputs": [],
   "source": [
    "# Adds the tardies column to the dataframe\n",
    "tardies = pd.merge(truant, tardies, how='left', on=['Student ID', 'School' ])\n",
    "tardies"
   ]
  },
  {
   "cell_type": "code",
   "execution_count": null,
   "id": "9fe7a81f",
   "metadata": {},
   "outputs": [],
   "source": [
    "# Gives a zero to students who do not have one\n",
    "tardies[\"Tardy\"] = tardies[\"Tardy\"].fillna(0)\n",
    "tardies"
   ]
  },
  {
   "cell_type": "code",
   "execution_count": null,
   "id": "7e9fb260",
   "metadata": {},
   "outputs": [],
   "source": [
    "# Generates a csv file from the final dataframe\n",
    "import base64\n",
    "from IPython.display import HTML\n",
    "\n",
    "def create_download_link( df, title = \"Attendance for Date Range\", filename = \"Attendance for Date Range\"):\n",
    "    csv = df.to_csv(index=False)\n",
    "    b64 = base64.b64encode(csv.encode())\n",
    "    payload = b64.decode()\n",
    "    html = '<a download=\"{filename}\" href=\"data:text/csv;base64,{payload}\" target=\"_blank\">{title}</a>'\n",
    "    html = html.format(payload=payload,title=title,filename=filename)\n",
    "    return HTML(html)\n",
    "\n",
    "create_download_link(tardies)"
   ]
  },
  {
   "cell_type": "code",
   "execution_count": null,
   "id": "d8340e9f",
   "metadata": {},
   "outputs": [],
   "source": [
    "tardies"
   ]
  },
  {
   "cell_type": "code",
   "execution_count": null,
   "id": "82107d38",
   "metadata": {},
   "outputs": [],
   "source": [
    "school = tardies.groupby(by=['School'])['Enrolled', 'Present'].sum().reset_index()\n",
    "school"
   ]
  },
  {
   "cell_type": "code",
   "execution_count": null,
   "id": "00426ba1",
   "metadata": {},
   "outputs": [],
   "source": [
    "delano_ss = school[(school['School'] == 1) | (school['School'] == 2)]\n",
    "delano_ss"
   ]
  },
  {
   "cell_type": "code",
   "execution_count": null,
   "id": "8c0739b7",
   "metadata": {},
   "outputs": [],
   "source": [
    "column_sums = delano_ss.sum(axis=0)\n",
    "delano_ss = pd.DataFrame(column_sums).transpose()\n",
    "delano_ss"
   ]
  },
  {
   "cell_type": "code",
   "execution_count": null,
   "id": "5908e827",
   "metadata": {},
   "outputs": [],
   "source": [
    "if www == 'Dashboard':\n",
    "    delano_ss['School'] = delano_ss['School'].replace(2.0, 'Delano SS')\n",
    "else:\n",
    "    delano_ss['School'] = delano_ss['School'].replace(3.0, 'Delano SS')    \n",
    "delano_ss"
   ]
  },
  {
   "cell_type": "code",
   "execution_count": null,
   "id": "f6f6a335",
   "metadata": {},
   "outputs": [],
   "source": [
    "delano = school[(school['School'] == 1) | (school['School'] == 2) | (school['School'] == 4) ]\n",
    "delano"
   ]
  },
  {
   "cell_type": "code",
   "execution_count": null,
   "id": "73a280a5",
   "metadata": {},
   "outputs": [],
   "source": [
    "column_sums = delano.sum(axis=0)\n",
    "delano = pd.DataFrame(column_sums).transpose()\n",
    "delano"
   ]
  },
  {
   "cell_type": "code",
   "execution_count": null,
   "id": "7b1304f1",
   "metadata": {},
   "outputs": [],
   "source": [
    "if www == 'Dashboard':\n",
    "    delano['School'] = delano['School'].replace(6.0, 'Delano')\n",
    "else:\n",
    "    delano['School'] = delano['School'].replace(7.0, 'Delano')    \n",
    "delano"
   ]
  },
  {
   "cell_type": "code",
   "execution_count": null,
   "id": "35e05651",
   "metadata": {},
   "outputs": [],
   "source": [
    "lh_ss = school[(school['School'] == 7) | (school['School'] == 8) ]\n",
    "lh_ss"
   ]
  },
  {
   "cell_type": "code",
   "execution_count": null,
   "id": "e27b83ce",
   "metadata": {},
   "outputs": [],
   "source": [
    "column_sums = lh_ss.sum(axis=0)\n",
    "lh_ss = pd.DataFrame(column_sums).transpose()\n",
    "lh_ss"
   ]
  },
  {
   "cell_type": "code",
   "execution_count": null,
   "id": "ff1e3ba4",
   "metadata": {},
   "outputs": [],
   "source": [
    "if www == 'Dashboard':\n",
    "    lh_ss['School'] = lh_ss['School'].replace(7.0, 'Lost Hills SS')\n",
    "else:\n",
    "    lh_ss['School'] = lh_ss['School'].replace(15.0, 'Lost Hills SS')    \n",
    "lh_ss"
   ]
  },
  {
   "cell_type": "code",
   "execution_count": null,
   "id": "da2cc026",
   "metadata": {},
   "outputs": [],
   "source": [
    "lh = school[(school['School'] == 6) | (school['School'] == 7) | (school['School'] == 8) ]\n",
    "lh"
   ]
  },
  {
   "cell_type": "code",
   "execution_count": null,
   "id": "522dcbb0",
   "metadata": {},
   "outputs": [],
   "source": [
    "column_sums = lh.sum(axis=0)\n",
    "lh = pd.DataFrame(column_sums).transpose()\n",
    "lh"
   ]
  },
  {
   "cell_type": "code",
   "execution_count": null,
   "id": "c89de7ba",
   "metadata": {},
   "outputs": [],
   "source": [
    "if www == 'Dashboard':\n",
    "    lh['School'] = lh['School'].replace(13.0, 'Lost Hills')\n",
    "else:\n",
    "    lh['School'] = lh['School'].replace(21.0, 'Lost Hills')    \n",
    "lh"
   ]
  },
  {
   "cell_type": "code",
   "execution_count": null,
   "id": "f1807fc2",
   "metadata": {},
   "outputs": [],
   "source": [
    "school = pd.concat([school, delano_ss, delano, lh_ss, lh])\n",
    "school"
   ]
  },
  {
   "cell_type": "code",
   "execution_count": null,
   "id": "778203be",
   "metadata": {},
   "outputs": [],
   "source": [
    "replacement_dict = {1.0: 'Delano HS', 2: 'Delano MS', 4.0:'Delano ES', 6.0:'Lost Hills ES', \n",
    "                   7.0:'Lost Hills MS', 8.0: 'Lost Hills HS'}\n",
    "school['School'].replace(replacement_dict, inplace=True)\n",
    "school"
   ]
  },
  {
   "cell_type": "code",
   "execution_count": null,
   "id": "e4180170",
   "metadata": {},
   "outputs": [],
   "source": [
    "school['Percent Present'] = school['Present']/school['Enrolled']\n",
    "school"
   ]
  },
  {
   "cell_type": "code",
   "execution_count": null,
   "id": "ac409f3e",
   "metadata": {},
   "outputs": [],
   "source": [
    "tardies"
   ]
  },
  {
   "cell_type": "code",
   "execution_count": null,
   "id": "a3916be1",
   "metadata": {},
   "outputs": [],
   "source": [
    "def f(row):\n",
    "    if row['% Present'] <= .9: #Enter date is first date selected if student enrolled prior\n",
    "        val = 1\n",
    "    else:\n",
    "        val = 0 #Enter date is date of actual enrollment if after start date\n",
    "    return val"
   ]
  },
  {
   "cell_type": "code",
   "execution_count": null,
   "id": "76adc56b",
   "metadata": {},
   "outputs": [],
   "source": [
    "tardies['Chronic'] = tardies.apply(f, axis=1)\n",
    "tardies"
   ]
  },
  {
   "cell_type": "code",
   "execution_count": null,
   "id": "e508b664",
   "metadata": {},
   "outputs": [],
   "source": [
    "tardies['Enrollment'] = 1\n",
    "tardies"
   ]
  },
  {
   "cell_type": "code",
   "execution_count": null,
   "id": "84a9a72a",
   "metadata": {},
   "outputs": [],
   "source": [
    "chronic = tardies.groupby(by=['School'])['Enrollment', 'Chronic'].sum().reset_index()\n",
    "chronic"
   ]
  },
  {
   "cell_type": "code",
   "execution_count": null,
   "id": "bed24053",
   "metadata": {},
   "outputs": [],
   "source": [
    "delano_ss = chronic[(chronic['School'] == 1) | (chronic['School'] == 2)]\n",
    "delano_ss"
   ]
  },
  {
   "cell_type": "code",
   "execution_count": null,
   "id": "1196d01b",
   "metadata": {},
   "outputs": [],
   "source": [
    "column_sums = delano_ss.sum(axis=0)\n",
    "delano_ss = pd.DataFrame(column_sums).transpose()\n",
    "delano_ss"
   ]
  },
  {
   "cell_type": "code",
   "execution_count": null,
   "id": "e86b585a",
   "metadata": {},
   "outputs": [],
   "source": [
    "if www == 'Dashboard':\n",
    "    delano_ss['School'] = delano_ss['School'].replace(2.0, 'Delano SS')\n",
    "else:\n",
    "    delano_ss['School'] = delano_ss['School'].replace(3.0, 'Delano SS')    \n",
    "delano_ss"
   ]
  },
  {
   "cell_type": "code",
   "execution_count": null,
   "id": "abd95f00",
   "metadata": {},
   "outputs": [],
   "source": [
    "delano = chronic[(chronic['School'] == 1) | (chronic['School'] == 2) | (chronic['School'] == 4) ]\n",
    "delano"
   ]
  },
  {
   "cell_type": "code",
   "execution_count": null,
   "id": "067fcf15",
   "metadata": {},
   "outputs": [],
   "source": [
    "column_sums = delano.sum(axis=0)\n",
    "delano = pd.DataFrame(column_sums).transpose()\n",
    "delano"
   ]
  },
  {
   "cell_type": "code",
   "execution_count": null,
   "id": "9546fdab",
   "metadata": {},
   "outputs": [],
   "source": [
    "if www == 'Dashboard':\n",
    "    delano['School'] = delano['School'].replace(6.0, 'Delano')\n",
    "else:\n",
    "    delano['School'] = delano['School'].replace(7.0, 'Delano')    \n",
    "delano"
   ]
  },
  {
   "cell_type": "code",
   "execution_count": null,
   "id": "c987f782",
   "metadata": {},
   "outputs": [],
   "source": [
    "lh_ss = chronic[(chronic['School'] == 7) | (chronic['School'] == 8) ]\n",
    "lh_ss"
   ]
  },
  {
   "cell_type": "code",
   "execution_count": null,
   "id": "119c12e6",
   "metadata": {},
   "outputs": [],
   "source": [
    "column_sums = lh_ss.sum(axis=0)\n",
    "lh_ss = pd.DataFrame(column_sums).transpose()\n",
    "lh_ss"
   ]
  },
  {
   "cell_type": "code",
   "execution_count": null,
   "id": "5ac3d555",
   "metadata": {},
   "outputs": [],
   "source": [
    "if www == 'Dashboard':\n",
    "    lh_ss['School'] = lh_ss['School'].replace(7.0, 'Lost Hills SS')\n",
    "else:\n",
    "    lh_ss['School'] = lh_ss['School'].replace(15.0, 'Lost Hills SS')    \n",
    "lh_ss"
   ]
  },
  {
   "cell_type": "code",
   "execution_count": null,
   "id": "eefdd038",
   "metadata": {},
   "outputs": [],
   "source": [
    "lh = chronic[(chronic['School'] == 6) | (chronic['School'] == 7) | (chronic['School'] == 8) ]\n",
    "lh"
   ]
  },
  {
   "cell_type": "code",
   "execution_count": null,
   "id": "a230083d",
   "metadata": {},
   "outputs": [],
   "source": [
    "column_sums = lh.sum(axis=0)\n",
    "lh = pd.DataFrame(column_sums).transpose()\n",
    "lh"
   ]
  },
  {
   "cell_type": "code",
   "execution_count": null,
   "id": "2425aa64",
   "metadata": {},
   "outputs": [],
   "source": [
    "if www == 'Dashboard':\n",
    "    lh['School'] = lh['School'].replace(13.0, 'Lost Hills')\n",
    "else:\n",
    "    lh['School'] = lh['School'].replace(21.0, 'Lost Hills')    \n",
    "lh"
   ]
  },
  {
   "cell_type": "code",
   "execution_count": null,
   "id": "9333cef6",
   "metadata": {},
   "outputs": [],
   "source": [
    "chronic = pd.concat([chronic, delano_ss, delano, lh_ss, lh])\n",
    "chronic"
   ]
  },
  {
   "cell_type": "code",
   "execution_count": null,
   "id": "7d219831",
   "metadata": {},
   "outputs": [],
   "source": [
    "replacement_dict = {1.0: 'Delano HS', 2: 'Delano MS', 4.0:'Delano ES', 6.0:'Lost Hills ES', \n",
    "                   7.0:'Lost Hills MS', 8.0: 'Lost Hills HS'}\n",
    "chronic['School'].replace(replacement_dict, inplace=True)\n",
    "chronic"
   ]
  },
  {
   "cell_type": "code",
   "execution_count": null,
   "id": "ea8dffa3",
   "metadata": {},
   "outputs": [],
   "source": [
    "chronic['Chronic Rate'] = chronic['Chronic']/chronic['Enrollment']\n",
    "chronic"
   ]
  },
  {
   "cell_type": "code",
   "execution_count": null,
   "id": "0f3976c6",
   "metadata": {},
   "outputs": [],
   "source": [
    "chronic = chronic[['School', 'Chronic Rate']]\n",
    "chronic"
   ]
  },
  {
   "cell_type": "code",
   "execution_count": null,
   "id": "97500767",
   "metadata": {},
   "outputs": [],
   "source": [
    "final = pd.merge(school, chronic, how='inner', on='School')\n",
    "final"
   ]
  },
  {
   "cell_type": "code",
   "execution_count": null,
   "id": "0bf90eb7",
   "metadata": {},
   "outputs": [],
   "source": [
    "# Write dataframe to file\n",
    "\n",
    "writer = pd.ExcelWriter(output)\n",
    "\n",
    "tardies.to_excel(writer, sheet_name = 'Attendance', index=False)\n",
    "final.to_excel(writer, sheet_name='Schools', index=False)\n",
    "\n",
    "writer.save()"
   ]
  },
  {
   "cell_type": "code",
   "execution_count": null,
   "id": "5be95c49",
   "metadata": {},
   "outputs": [],
   "source": []
  },
  {
   "cell_type": "code",
   "execution_count": null,
   "id": "b445bae5",
   "metadata": {},
   "outputs": [],
   "source": []
  }
 ],
 "metadata": {
  "kernelspec": {
   "display_name": "Python 3 (ipykernel)",
   "language": "python",
   "name": "python3"
  },
  "language_info": {
   "codemirror_mode": {
    "name": "ipython",
    "version": 3
   },
   "file_extension": ".py",
   "mimetype": "text/x-python",
   "name": "python",
   "nbconvert_exporter": "python",
   "pygments_lexer": "ipython3",
   "version": "3.9.7"
  }
 },
 "nbformat": 4,
 "nbformat_minor": 5
}
