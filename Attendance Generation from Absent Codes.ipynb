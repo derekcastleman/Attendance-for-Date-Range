{
 "cells": [
  {
   "cell_type": "markdown",
   "id": "016b2cef",
   "metadata": {},
   "source": [
    "# Attendance Generation from Absent Codes\n",
    "\n",
    "Aeries does not allow for us to find the percent present for a student based on a date range only allowing for a search on Year to Date attendance. This creates issues if we want to look at the quarter, semester or monthly attendance for students.\n",
    "\n",
    "The following code allows for the percent attendance for a student to be calculated using a query that searches for the All Day codes for the year as well as the Enrollment Data for the students.\n",
    "\n",
    "The only input that is required is the date range of interest as well as answering questions on the days off of school pertaining to particular school holidays. \n",
    "\n",
    "__The code for the Holidays might have to be changed if there are any alterations to the academic calendar__"
   ]
  },
  {
   "cell_type": "code",
   "execution_count": null,
   "id": "ffcc23c9",
   "metadata": {},
   "outputs": [],
   "source": [
    "import numpy as np\n",
    "import pandas as pd"
   ]
  },
  {
   "cell_type": "code",
   "execution_count": null,
   "id": "09e23505",
   "metadata": {},
   "outputs": [],
   "source": [
    "# Query for the All Day codes for the school year\n",
    "# LIST ATT STU ATT.SC STU.ID ATT.DY ATT.AL ATT.DT ATT.RS ATT.DTS ATT.ACO\n",
    "\n",
    "absent_codes = pd.read_excel(r\"C:\\Users\\derek.castleman\\Desktop\\absentcodes.xlsx\")\n",
    "\n",
    "# Obtain enrollment data for the students\n",
    "# LIST STU ID LN FN SC GR ED \n",
    "\n",
    "enrollment = pd.read_excel(r\"C:\\Users\\derek.castleman\\Desktop\\enrollment.xlsx\")"
   ]
  },
  {
   "cell_type": "code",
   "execution_count": null,
   "id": "d31c3bbf",
   "metadata": {},
   "outputs": [],
   "source": [
    "absent_codes"
   ]
  },
  {
   "cell_type": "markdown",
   "id": "416f97ab",
   "metadata": {},
   "source": [
    "## Selecting Date Range\n",
    "\n",
    "Inputting the date range of interest that you want to generate the attendance data for and then converting it into datetime."
   ]
  },
  {
   "cell_type": "code",
   "execution_count": null,
   "id": "5a48e60a",
   "metadata": {},
   "outputs": [],
   "source": [
    "absent_codes['Date']= pd.to_datetime(absent_codes['Date']) # Changes absent date to datetime\n",
    "absent_codes"
   ]
  },
  {
   "cell_type": "code",
   "execution_count": null,
   "id": "85ad222c",
   "metadata": {},
   "outputs": [],
   "source": [
    "a = input('What is the start date you are interested in (mm/dd/yyyy):          ') #Input start date"
   ]
  },
  {
   "cell_type": "code",
   "execution_count": null,
   "id": "adaa7421",
   "metadata": {},
   "outputs": [],
   "source": [
    "a = pd.to_datetime(a) # Change start date to datetime\n",
    "a"
   ]
  },
  {
   "cell_type": "code",
   "execution_count": null,
   "id": "387f3ade",
   "metadata": {},
   "outputs": [],
   "source": [
    "b = input('What is the end date you are interested in (mm/dd/yyyy):          ') #Input end date"
   ]
  },
  {
   "cell_type": "code",
   "execution_count": null,
   "id": "39f68758",
   "metadata": {},
   "outputs": [],
   "source": [
    "b = pd.to_datetime(b) # Turn end date to date time\n",
    "b"
   ]
  },
  {
   "cell_type": "code",
   "execution_count": null,
   "id": "62401960",
   "metadata": {},
   "outputs": [],
   "source": [
    "# Filters date range from All Day code table\n",
    "dates_interested = absent_codes[(absent_codes['Date'] >=a) & (absent_codes['Date'] <=b)]\n",
    "dates_interested"
   ]
  },
  {
   "cell_type": "markdown",
   "id": "286034fd",
   "metadata": {},
   "source": [
    "## Calculating Absences, Tardies and Truancies\n",
    "\n",
    "Absences will be calculated using the All Day codes which coincide with an absent for the student for the day.\n",
    "\n",
    "Unexcused absences will be filtered by the codes that relate to this kind of absence.\n",
    "\n",
    "Tardies will focus on the codes that are related to tardies.\n",
    "\n",
    "Truancies will be students that have an All Day code of >30."
   ]
  },
  {
   "cell_type": "code",
   "execution_count": null,
   "id": "7d7e17c9",
   "metadata": {},
   "outputs": [],
   "source": [
    "# Filtering for rows that correspond to absences\n",
    "absent_students = dates_interested[(dates_interested['All day'] == '0') | (dates_interested['All day'] == '4') | \n",
    "                                  (dates_interested['All day'] == '5') | (dates_interested['All day'] == 'H') | \n",
    "                                  (dates_interested['All day'] == 'I') | (dates_interested['All day'] == 'L') | \n",
    "                                  (dates_interested['All day'] == 'M') | (dates_interested['All day'] == 'X') |\n",
    "                                  (dates_interested['All day'] == '7') | (dates_interested['All day'] == 'A') |\n",
    "                                  (dates_interested['All day'] == 'Q') | (dates_interested['All day'] == 'S') |\n",
    "                                  (dates_interested['All day'] == 'U') | (dates_interested['All day'] == 'P')]\n",
    "absent_students"
   ]
  },
  {
   "cell_type": "code",
   "execution_count": null,
   "id": "b2fd3aa7",
   "metadata": {},
   "outputs": [],
   "source": [
    "# Adding a column that gives one day for each absent code\n",
    "absent_students['Absent'] = 1\n",
    "absent_students"
   ]
  },
  {
   "cell_type": "code",
   "execution_count": null,
   "id": "ba3ade1e",
   "metadata": {},
   "outputs": [],
   "source": [
    "# Grouping by school and student ID to calculate total number of days absent\n",
    "absent = absent_students.groupby(by=['School', 'Student ID'])['Absent'].sum().reset_index()\n",
    "absent"
   ]
  },
  {
   "cell_type": "code",
   "execution_count": null,
   "id": "7c643eed",
   "metadata": {},
   "outputs": [],
   "source": [
    "# Filters for the codes that relate to unexcused absences\n",
    "unexcused_absent_students = dates_interested[(dates_interested['All day'] == '7') | (dates_interested['All day'] == 'A') |\n",
    "                                  (dates_interested['All day'] == 'Q') | (dates_interested['All day'] == 'S') |\n",
    "                                  (dates_interested['All day'] == 'U')]\n",
    "unexcused_absent_students"
   ]
  },
  {
   "cell_type": "code",
   "execution_count": null,
   "id": "48a83f0e",
   "metadata": {},
   "outputs": [],
   "source": [
    "# Gives one day for each unexcused absence\n",
    "unexcused_absent_students['Unexcused Absences'] = 1\n",
    "unexcused_absent_students"
   ]
  },
  {
   "cell_type": "code",
   "execution_count": null,
   "id": "61497e01",
   "metadata": {},
   "outputs": [],
   "source": [
    "# Sums up the number of unexcused absences for each students\n",
    "unexcused_absent = unexcused_absent_students.groupby(by=['School', 'Student ID'])['Unexcused Absences'].sum().reset_index()\n",
    "unexcused_absent"
   ]
  },
  {
   "cell_type": "code",
   "execution_count": null,
   "id": "7128c971",
   "metadata": {},
   "outputs": [],
   "source": [
    "# Filters for truancies\n",
    "truancies = dates_interested[dates_interested['All day'] == 'Z']\n",
    "truancies"
   ]
  },
  {
   "cell_type": "code",
   "execution_count": null,
   "id": "d1626c0d",
   "metadata": {},
   "outputs": [],
   "source": [
    "# Gives on truancy for each day\n",
    "truancies['Truant'] = 1\n",
    "truancies"
   ]
  },
  {
   "cell_type": "code",
   "execution_count": null,
   "id": "25a8d33c",
   "metadata": {},
   "outputs": [],
   "source": [
    "# Summs up the truancies for each student\n",
    "truant = truancies.groupby(by=['School', 'Student ID'])['Truant'].sum().reset_index()\n",
    "truant"
   ]
  },
  {
   "cell_type": "code",
   "execution_count": null,
   "id": "3040482b",
   "metadata": {},
   "outputs": [],
   "source": [
    "# Filters for the tardies for each student\n",
    "tardy_students = dates_interested[(dates_interested['All day'] == 'T') | (dates_interested['All day'] == 'D') |\n",
    "                                  (dates_interested['All day'] == 'C')]\n",
    "tardy_students"
   ]
  },
  {
   "cell_type": "code",
   "execution_count": null,
   "id": "7c45ef5e",
   "metadata": {},
   "outputs": [],
   "source": [
    "# Gives one tardy for each day\n",
    "tardy_students['Tardy'] = 1\n",
    "tardy_students"
   ]
  },
  {
   "cell_type": "code",
   "execution_count": null,
   "id": "e87b7fcc",
   "metadata": {},
   "outputs": [],
   "source": [
    "# Sums up the tardies for each student\n",
    "tardies = tardy_students.groupby(by=['School', 'Student ID'])['Tardy'].sum().reset_index()\n",
    "tardies"
   ]
  },
  {
   "cell_type": "markdown",
   "id": "48dc2e68",
   "metadata": {},
   "source": [
    "## Calculating Days Enrolled\n",
    "\n",
    "The days that the students are enrolled at the school for the time period that is selected will be calculated."
   ]
  },
  {
   "cell_type": "code",
   "execution_count": null,
   "id": "532d0691",
   "metadata": {},
   "outputs": [],
   "source": [
    "enrollment"
   ]
  },
  {
   "cell_type": "code",
   "execution_count": null,
   "id": "345e99f6",
   "metadata": {},
   "outputs": [],
   "source": [
    "# Changing the enter date to datetime format\n",
    "enrollment['Enter Date']= pd.to_datetime(enrollment['Enter Date'])\n",
    "enrollment"
   ]
  },
  {
   "cell_type": "code",
   "execution_count": null,
   "id": "aebbd394",
   "metadata": {},
   "outputs": [],
   "source": [
    "# Creating a function that sets different dates based on when the student enrolls and time period selected\n",
    "def f(row):\n",
    "    if row['Enter Date'] <= a: #Enter date is first date selected if student enrolled prior\n",
    "        val = a\n",
    "    else:\n",
    "        val = row['Enter Date'] #Enter date is date of actual enrollment if after start date\n",
    "    return val"
   ]
  },
  {
   "cell_type": "code",
   "execution_count": null,
   "id": "0b9a41e1",
   "metadata": {},
   "outputs": [],
   "source": [
    "# Creates enrollment column using function defined above\n",
    "enrollment['Enrollment'] = enrollment.apply(f, axis=1)\n",
    "enrollment"
   ]
  },
  {
   "cell_type": "markdown",
   "id": "f29a328a",
   "metadata": {},
   "source": [
    "## Inputing Holidays\n",
    "\n",
    "The dates for holidays can be input for the time range that is of concern. Any other holiday outside of the range can be skipped by hitting enter."
   ]
  },
  {
   "cell_type": "code",
   "execution_count": null,
   "id": "62b863ea",
   "metadata": {},
   "outputs": [],
   "source": [
    "# Takes an input for the date then converts it to datetime and a dataframe\n",
    "c = input('When is Labor Day (mm/dd/yyyy) - Hit enter if not in time range?:      ')\n",
    "c = pd.to_datetime(c)\n",
    "c=[c]\n",
    "c = pd.DataFrame(c, columns=['Dates'])\n",
    "c"
   ]
  },
  {
   "cell_type": "code",
   "execution_count": null,
   "id": "00914699",
   "metadata": {},
   "outputs": [],
   "source": [
    "c[\"Date\"] = pd.to_datetime(c['Dates']).dt.date\n",
    "c.info()"
   ]
  },
  {
   "cell_type": "code",
   "execution_count": null,
   "id": "f7c0313c",
   "metadata": {},
   "outputs": [],
   "source": [
    "d = input('When is first date of Fall Break (mm/dd/yyyy)? - Hit enter if not in time range:      ')\n",
    "d = pd.to_datetime(d)\n",
    "d"
   ]
  },
  {
   "cell_type": "code",
   "execution_count": null,
   "id": "1bce6ca6",
   "metadata": {},
   "outputs": [],
   "source": [
    "e = input('When is last date of Fall Break (mm/dd/yyyy)? - Hit enter if not in time range:      ')\n",
    "e = pd.to_datetime(e)\n",
    "e"
   ]
  },
  {
   "cell_type": "code",
   "execution_count": null,
   "id": "1b510f3b",
   "metadata": {},
   "outputs": [],
   "source": [
    "# If the start and end date are not null it will create a dataframe between the date range\n",
    "if pd.notna(d) and pd.notna(e):\n",
    "    fall_break = pd.date_range(d,e,freq='d')\n",
    "    fall_break = pd.DataFrame(fall_break, columns =['Dates'])\n",
    "    fall_break[\"Date\"] = fall_break['Dates'].dt.date\n",
    "else:\n",
    "    fall_break = None # Returns null if the start and end date are not entered"
   ]
  },
  {
   "cell_type": "code",
   "execution_count": null,
   "id": "3b2da668",
   "metadata": {},
   "outputs": [],
   "source": [
    "fall_break"
   ]
  },
  {
   "cell_type": "code",
   "execution_count": null,
   "id": "b9facc07",
   "metadata": {},
   "outputs": [],
   "source": [
    "f = input('When is Veterans Day (mm/dd/yyyy)? - Hit enter if not in time range:      ')\n",
    "f = pd.to_datetime(f)\n",
    "f=[f]\n",
    "f = pd.DataFrame(f, columns=['Dates'])\n",
    "f[\"Date\"] = f['Dates'].dt.date\n",
    "f"
   ]
  },
  {
   "cell_type": "code",
   "execution_count": null,
   "id": "9f6a9ece",
   "metadata": {},
   "outputs": [],
   "source": [
    "g = input('When is first date of Thanksgiving Break (mm/dd/yyyy)? - Hit enter if not in time range:      ')\n",
    "g = pd.to_datetime(g)\n",
    "g"
   ]
  },
  {
   "cell_type": "code",
   "execution_count": null,
   "id": "7dff13a3",
   "metadata": {},
   "outputs": [],
   "source": [
    "h = input('When is last date of Thanksgiving Break (mm/dd/yyyy)? - Hit enter if not in time range:      ')\n",
    "h = pd.to_datetime(h)\n",
    "h"
   ]
  },
  {
   "cell_type": "code",
   "execution_count": null,
   "id": "d6ad2662",
   "metadata": {},
   "outputs": [],
   "source": [
    "if pd.notna(g) and pd.notna(h):\n",
    "    thanksgiving_break = pd.date_range(g,h,freq='d')\n",
    "    thanksgiving_break = pd.DataFrame(thanksgiving_break, columns =['Dates'])\n",
    "    thanksgiving_break[\"Date\"] = thanksgiving_break['Dates'].dt.date\n",
    "else:\n",
    "    thanksgiving_break = None"
   ]
  },
  {
   "cell_type": "code",
   "execution_count": null,
   "id": "4f253fa4",
   "metadata": {},
   "outputs": [],
   "source": [
    "i = input('List first date of Winter Break (mm/dd/yyyy)? - Hit enter if not in time range:      ')\n",
    "i = pd.to_datetime(i)\n",
    "i"
   ]
  },
  {
   "cell_type": "code",
   "execution_count": null,
   "id": "8e5f450b",
   "metadata": {},
   "outputs": [],
   "source": [
    "j = input('List last date of Winter Break (mm/dd/yyyy)? - Hit enter if not in time range:      ')\n",
    "j = pd.to_datetime(j)\n",
    "j"
   ]
  },
  {
   "cell_type": "code",
   "execution_count": null,
   "id": "67ee48ca",
   "metadata": {},
   "outputs": [],
   "source": [
    "if pd.notna(i) and pd.notna(j):\n",
    "    winter_break = pd.date_range(i,j,freq='d')\n",
    "    winter_break = pd.DataFrame(winter_break, columns =['Dates'])\n",
    "    winter_break[\"Date\"] = winter_break['Dates'].dt.date\n",
    "else:\n",
    "    winter_break = None"
   ]
  },
  {
   "cell_type": "code",
   "execution_count": null,
   "id": "6aae0492",
   "metadata": {},
   "outputs": [],
   "source": [
    "k = input('When is MLK Day (mm/dd/yyyy)? - Hit enter if not in time range:      ')\n",
    "k = pd.to_datetime(k)\n",
    "k=[k]\n",
    "k = pd.DataFrame(k, columns=['Dates'])\n",
    "k[\"Date\"] = k['Dates'].dt.date\n",
    "k"
   ]
  },
  {
   "cell_type": "code",
   "execution_count": null,
   "id": "d6106c27",
   "metadata": {},
   "outputs": [],
   "source": [
    "l = input('When is Presidents Day (mm/dd/yyyy)? - Hit enter if not in time range:      ')\n",
    "l = pd.to_datetime(l)\n",
    "l=[l]\n",
    "l = pd.DataFrame(l, columns=['Dates'])\n",
    "l[\"Date\"] = l['Dates'].dt.date\n",
    "l"
   ]
  },
  {
   "cell_type": "code",
   "execution_count": null,
   "id": "b0297aa2",
   "metadata": {},
   "outputs": [],
   "source": [
    "m = input('When does Spring Break begin (mm/dd/yyyy)? - Hit enter if not in time range:      ')\n",
    "m = pd.to_datetime(m)\n",
    "m"
   ]
  },
  {
   "cell_type": "code",
   "execution_count": null,
   "id": "2a35977a",
   "metadata": {},
   "outputs": [],
   "source": [
    "n = input('When does Spring Break end (mm/dd/yyyy)? - Hit enter if not in time range:      ')\n",
    "n = pd.to_datetime(n)\n",
    "n"
   ]
  },
  {
   "cell_type": "code",
   "execution_count": null,
   "id": "ed20b249",
   "metadata": {},
   "outputs": [],
   "source": [
    "if pd.notna(m) and pd.notna(n):\n",
    "    spring_break = pd.date_range(m,n,freq='d')\n",
    "    spring_break = pd.DataFrame(spring_break, columns =['Dates'])\n",
    "    spring_break[\"Date\"] = spring_break['Dates'].dt.date\n",
    "else:\n",
    "    spring_break = None"
   ]
  },
  {
   "cell_type": "code",
   "execution_count": null,
   "id": "e6d54559",
   "metadata": {},
   "outputs": [],
   "source": [
    "o = input('When is Cesar Chavez Day (mm/dd/yyyy)? - Hit enter if not in time range:      ')\n",
    "o = pd.to_datetime(o)\n",
    "o=[o]\n",
    "o = pd.DataFrame(o, columns=['Dates'])\n",
    "o[\"Date\"] = o['Dates'].dt.date\n",
    "o"
   ]
  },
  {
   "cell_type": "code",
   "execution_count": null,
   "id": "95a82164",
   "metadata": {},
   "outputs": [],
   "source": [
    "p = input('When is Easter Holiday (mm/dd/yyyy)? - Hit enter if not in time range:      ')\n",
    "p = pd.to_datetime(p)\n",
    "p=[p]\n",
    "p = pd.DataFrame(p, columns=['Dates'])\n",
    "p[\"Date\"] = p['Dates'].dt.date\n",
    "p"
   ]
  },
  {
   "cell_type": "code",
   "execution_count": null,
   "id": "0877c7be",
   "metadata": {},
   "outputs": [],
   "source": [
    "q = input('When is Memorial Day (mm/dd/yyyy)? - Hit enter if not in time range:      ')\n",
    "q = pd.to_datetime(q)\n",
    "q=[q]\n",
    "q = pd.DataFrame(q, columns=['Dates'])\n",
    "q[\"Date\"] = q['Dates'].dt.date\n",
    "q"
   ]
  },
  {
   "cell_type": "markdown",
   "id": "c3aa0d1f",
   "metadata": {},
   "source": [
    "## Removing Holidays\n",
    "\n",
    "The holidays that were input will be concatenated into one dataframe. The range of dates that were selected will be generated and matched with the holidays. Then the dates that correspond with the holidays will be removed from the time range of interest."
   ]
  },
  {
   "cell_type": "code",
   "execution_count": null,
   "id": "2145b66f",
   "metadata": {},
   "outputs": [],
   "source": [
    "# The input holidays will be concatenated into one dataframe\n",
    "holidays = pd.concat([c, fall_break, f, thanksgiving_break, winter_break, k, l, spring_break, o, p, q]).reset_index(drop=True)\n",
    "holidays"
   ]
  },
  {
   "cell_type": "code",
   "execution_count": null,
   "id": "977167fd",
   "metadata": {},
   "outputs": [],
   "source": [
    "holidays = holidays[['Dates']] #Select the datetime column\n",
    "holidays = holidays.rename(columns={\"Dates\": \"Holidays\"}) #Change the name of column to holidays\n",
    "holidays"
   ]
  },
  {
   "cell_type": "code",
   "execution_count": null,
   "id": "99cf9b89",
   "metadata": {},
   "outputs": [],
   "source": [
    "# The dates between the selected range will be generated\n",
    "date_range = pd.date_range(a,b,freq='B')\n",
    "date_range = pd.DataFrame(date_range, columns =['Dates'])\n",
    "date_range"
   ]
  },
  {
   "cell_type": "code",
   "execution_count": null,
   "id": "9992c0d8",
   "metadata": {},
   "outputs": [],
   "source": [
    "# Holidays are matched with corresponding dates in date range\n",
    "holiday_match = pd.merge(date_range, holidays, how='left', left_on='Dates', right_on='Holidays')\n",
    "holiday_match"
   ]
  },
  {
   "cell_type": "code",
   "execution_count": null,
   "id": "ebff951c",
   "metadata": {},
   "outputs": [],
   "source": [
    "# The dates without holidays are selected\n",
    "dates = holiday_match[holiday_match.Holidays.isnull()].reset_index(drop=True)\n",
    "dates"
   ]
  },
  {
   "cell_type": "code",
   "execution_count": null,
   "id": "dfff19be",
   "metadata": {},
   "outputs": [],
   "source": [
    "# The holidays column is dropped\n",
    "dates = dates[['Dates']]\n",
    "dates"
   ]
  },
  {
   "cell_type": "code",
   "execution_count": null,
   "id": "a12ae0bb",
   "metadata": {},
   "outputs": [],
   "source": [
    "# A column for day is generated\n",
    "dates['Day'] = 'Day'\n",
    "dates"
   ]
  },
  {
   "cell_type": "code",
   "execution_count": null,
   "id": "c8737579",
   "metadata": {},
   "outputs": [],
   "source": [
    "# A countdown of days enrolled by date is generated\n",
    "dates['Enrolled'] = dates.groupby(['Day']).cumcount(ascending=False)+1\n",
    "dates"
   ]
  },
  {
   "cell_type": "code",
   "execution_count": null,
   "id": "d25838e9",
   "metadata": {},
   "outputs": [],
   "source": [
    "# The day column is dropped leaving enrolled days for each date\n",
    "dates = dates.drop(columns=['Day'])\n",
    "dates"
   ]
  },
  {
   "cell_type": "markdown",
   "id": "d888f898",
   "metadata": {},
   "source": [
    "## Combining All Tables\n",
    "\n",
    "All the tables will be combined in this section, giving the number of days each student has been enrolled by matching the date and the enrollment columns.\n",
    "\n",
    "All of the attendance tables will then be added to create columns that represent each one."
   ]
  },
  {
   "cell_type": "code",
   "execution_count": null,
   "id": "406192d4",
   "metadata": {},
   "outputs": [],
   "source": [
    "enrollment"
   ]
  },
  {
   "cell_type": "code",
   "execution_count": null,
   "id": "2da1a90c",
   "metadata": {},
   "outputs": [],
   "source": [
    "# Enrollment dates are matched with the date dataframe giving the days each student enrolled\n",
    "enrolled_numbers = pd.merge(enrollment, dates, how='left', left_on='Enrollment', right_on='Dates')\n",
    "enrolled_numbers"
   ]
  },
  {
   "cell_type": "code",
   "execution_count": null,
   "id": "1b43cfc8",
   "metadata": {},
   "outputs": [],
   "source": [
    "# Dropping extra dates columns\n",
    "enrolled_numbers = enrolled_numbers[['Student ID', 'Last Name', 'First Name', 'School', 'Grade', 'Enter Date', 'Enrolled']]\n",
    "enrolled_numbers"
   ]
  },
  {
   "cell_type": "code",
   "execution_count": null,
   "id": "77a7b942",
   "metadata": {},
   "outputs": [],
   "source": [
    "absent"
   ]
  },
  {
   "cell_type": "code",
   "execution_count": null,
   "id": "6ff58ae6",
   "metadata": {},
   "outputs": [],
   "source": [
    "# Adding days absent column\n",
    "absent_enrolled = pd.merge(enrolled_numbers, absent, how='left', on=['Student ID', 'School' ])\n",
    "absent_enrolled"
   ]
  },
  {
   "cell_type": "code",
   "execution_count": null,
   "id": "dea020ba",
   "metadata": {},
   "outputs": [],
   "source": [
    "# Giving students with no absences a zero\n",
    "absent_enrolled[\"Absent\"] = absent_enrolled[\"Absent\"].fillna(0)\n",
    "absent_enrolled"
   ]
  },
  {
   "cell_type": "code",
   "execution_count": null,
   "id": "6bc5a529",
   "metadata": {},
   "outputs": [],
   "source": [
    "# Create a present column by subtracting days absent from those enrolled\n",
    "absent_enrolled['Present'] = absent_enrolled['Enrolled'] - absent_enrolled['Absent']\n",
    "absent_enrolled"
   ]
  },
  {
   "cell_type": "code",
   "execution_count": null,
   "id": "b21c2342",
   "metadata": {},
   "outputs": [],
   "source": [
    "present = absent_enrolled[['Student ID', 'Last Name', 'First Name', 'School', 'Grade', 'Enter Date', 'Enrolled', 'Present',\n",
    "                          'Absent']] #Moves the present column over\n",
    "present"
   ]
  },
  {
   "cell_type": "code",
   "execution_count": null,
   "id": "b2efaa06",
   "metadata": {},
   "outputs": [],
   "source": [
    "# Calculates percent present by dividing days present by days enrolled\n",
    "present['% Present'] = present['Present'] / present['Enrolled']\n",
    "present"
   ]
  },
  {
   "cell_type": "code",
   "execution_count": null,
   "id": "d5979510",
   "metadata": {},
   "outputs": [],
   "source": [
    "unexcused_absent"
   ]
  },
  {
   "cell_type": "code",
   "execution_count": null,
   "id": "69c143fd",
   "metadata": {},
   "outputs": [],
   "source": [
    "# Adds unexcused absences column\n",
    "unexcused = pd.merge(present, unexcused_absent, how='left', on=['Student ID', 'School'])\n",
    "unexcused"
   ]
  },
  {
   "cell_type": "code",
   "execution_count": null,
   "id": "2d5c6a90",
   "metadata": {},
   "outputs": [],
   "source": [
    "# Gives a value of zero for students who do not have one\n",
    "unexcused[\"Unexcused Absences\"] = unexcused[\"Unexcused Absences\"].fillna(0)\n",
    "unexcused"
   ]
  },
  {
   "cell_type": "code",
   "execution_count": null,
   "id": "685a7a2e",
   "metadata": {},
   "outputs": [],
   "source": [
    "truant"
   ]
  },
  {
   "cell_type": "code",
   "execution_count": null,
   "id": "d2ba0383",
   "metadata": {},
   "outputs": [],
   "source": [
    "# Adds the truant column to the dataframe\n",
    "truant = pd.merge(unexcused, truant, how='left', on=['Student ID', 'School' ])\n",
    "truant"
   ]
  },
  {
   "cell_type": "code",
   "execution_count": null,
   "id": "13ea1a5b",
   "metadata": {},
   "outputs": [],
   "source": [
    "# Gives a zero to students who do not have one\n",
    "truant[\"Truant\"] = truant[\"Truant\"].fillna(0)\n",
    "truant"
   ]
  },
  {
   "cell_type": "code",
   "execution_count": null,
   "id": "1846a065",
   "metadata": {},
   "outputs": [],
   "source": [
    "tardies"
   ]
  },
  {
   "cell_type": "code",
   "execution_count": null,
   "id": "d2c62417",
   "metadata": {},
   "outputs": [],
   "source": [
    "# Adds the tardies column to the dataframe\n",
    "tardies = pd.merge(truant, tardies, how='left', on=['Student ID', 'School' ])\n",
    "tardies"
   ]
  },
  {
   "cell_type": "code",
   "execution_count": null,
   "id": "9fe7a81f",
   "metadata": {},
   "outputs": [],
   "source": [
    "# Gives a zero to students who do not have one\n",
    "tardies[\"Tardy\"] = tardies[\"Tardy\"].fillna(0)\n",
    "tardies"
   ]
  },
  {
   "cell_type": "code",
   "execution_count": null,
   "id": "7e9fb260",
   "metadata": {},
   "outputs": [],
   "source": [
    "# Generates a csv file from the final dataframe\n",
    "import base64\n",
    "from IPython.display import HTML\n",
    "\n",
    "def create_download_link( df, title = \"Attendance for Date Range\", filename = \"Attendance for Date Range\"):\n",
    "    csv = df.to_csv()\n",
    "    b64 = base64.b64encode(csv.encode())\n",
    "    payload = b64.decode()\n",
    "    html = '<a download=\"{filename}\" href=\"data:text/csv;base64,{payload}\" target=\"_blank\">{title}</a>'\n",
    "    html = html.format(payload=payload,title=title,filename=filename)\n",
    "    return HTML(html)\n",
    "\n",
    "create_download_link(tardies)"
   ]
  },
  {
   "cell_type": "code",
   "execution_count": null,
   "id": "d8340e9f",
   "metadata": {},
   "outputs": [],
   "source": []
  }
 ],
 "metadata": {
  "kernelspec": {
   "display_name": "Python 3 (ipykernel)",
   "language": "python",
   "name": "python3"
  },
  "language_info": {
   "codemirror_mode": {
    "name": "ipython",
    "version": 3
   },
   "file_extension": ".py",
   "mimetype": "text/x-python",
   "name": "python",
   "nbconvert_exporter": "python",
   "pygments_lexer": "ipython3",
   "version": "3.9.7"
  }
 },
 "nbformat": 4,
 "nbformat_minor": 5
}
